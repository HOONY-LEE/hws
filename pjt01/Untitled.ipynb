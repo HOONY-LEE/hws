{
 "cells": [
  {
   "cell_type": "code",
   "execution_count": 11,
   "id": "fbccf984",
   "metadata": {},
   "outputs": [
    {
     "name": "stdout",
     "output_type": "stream",
     "text": [
      "['그린 마일', '인생은 아름다워', '반지의 제왕: 왕의 귀환', '스파이더맨: 뉴 유니버스']\n"
     ]
    }
   ],
   "source": [
    "import json\n",
    "\n",
    "\n",
    "def dec_movies(movies):\n",
    "   \n",
    "\n",
    "    result = []\n",
    "    movies_ids = []\n",
    "    for i in movies:\n",
    "        movies_ids.append(i['id'])\n",
    "    \n",
    "    date_title_list = []\n",
    "    \n",
    "    for i in movies_ids:\n",
    "        movies_open = open(f'data/movies/{i}.json', encoding='utf-8')\n",
    "        movies_detail = json.load(movies_open)\n",
    "        date_title_list.append((movies_detail.get('release_date')[5:7],movies_detail.get('title')))\n",
    "            \n",
    "    for i in date_title_list:\n",
    "        if i[0] == '12':\n",
    "            result.append(i[1])\n",
    "    \n",
    "    return result\n",
    "    \n",
    "    print(result)\n",
    "\n",
    "# 아래의 코드는 수정하지 않습니다.\n",
    "if __name__ == '__main__':\n",
    "    movies_json = open('data/movies.json', encoding='utf-8')\n",
    "    movies_list = json.load(movies_json)\n",
    "    \n",
    "    print(dec_movies(movies_list))   \n",
    "\n",
    "\n",
    "\n",
    "\n"
   ]
  },
  {
   "cell_type": "code",
   "execution_count": null,
   "id": "ff4d2d1d",
   "metadata": {},
   "outputs": [],
   "source": []
  }
 ],
 "metadata": {
  "kernelspec": {
   "display_name": "Python 3 (ipykernel)",
   "language": "python",
   "name": "python3"
  },
  "language_info": {
   "codemirror_mode": {
    "name": "ipython",
    "version": 3
   },
   "file_extension": ".py",
   "mimetype": "text/x-python",
   "name": "python",
   "nbconvert_exporter": "python",
   "pygments_lexer": "ipython3",
   "version": "3.9.13"
  },
  "toc": {
   "base_numbering": 1,
   "nav_menu": {},
   "number_sections": true,
   "sideBar": true,
   "skip_h1_title": false,
   "title_cell": "Table of Contents",
   "title_sidebar": "Contents",
   "toc_cell": false,
   "toc_position": {},
   "toc_section_display": true,
   "toc_window_display": false
  }
 },
 "nbformat": 4,
 "nbformat_minor": 5
}
